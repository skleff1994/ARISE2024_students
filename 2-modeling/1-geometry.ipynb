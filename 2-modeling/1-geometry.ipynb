{
 "cells": [
  {
   "cell_type": "markdown",
   "metadata": {},
   "source": [
    "# 1. Geometric modeling "
   ]
  },
  {
   "cell_type": "markdown",
   "metadata": {},
   "source": [
    "The __geometric model__ of a robot is a set of equations describing the robot's geometry. This enables for instance to calculate the end-effector's position in the workspace based on the joint angles. There are 2 kinds of geometric models:\n",
    "\n",
    "- __Direct Geometric Model (DGM)__ : given joint positions, it gives the position of the end-effector (tool, hand, foot, etc.) with respect to the robot's base \n",
    "\n",
    "- __Inverse Geometric Model (IGM)__ : given an end-effector position (and orientation), it gives the joint positions \n",
    "\n",
    "The joint positions are usually denoted by $q$ and belong to __joint space__. The end-effector's pose is denoted $p$ and belongs to the __task space__, or cartesian space. The geometric model is in fact a mapping between the joint space and the task space. We will introduce these concepts more concretely with examples.\n",
    "\n",
    "__Note__: This Notebook contains trigonometry formulas. Take a look at this [cheatsheet](https://tutorial.math.lamar.edu/pdf/trig_cheat_sheet_reduced.pdf) if you feel lost."
   ]
  },
  {
   "cell_type": "markdown",
   "metadata": {},
   "source": [
    "# 1R robot - single revolute joint & link robot"
   ]
  },
  {
   "cell_type": "markdown",
   "metadata": {},
   "source": [
    "Consider the simple robot arm consisting of 1 revolute joint and 1 link. "
   ]
  },
  {
   "cell_type": "code",
   "execution_count": 1,
   "metadata": {},
   "outputs": [],
   "source": [
    "## Author: Sebastien\n",
    "## Date : 22/06/2020\n",
    "\n",
    "# Import required packages for this notebook\n",
    "import numpy as np\n",
    "from matplotlib import pyplot as plt\n",
    "import IPython\n",
    "import matplotlib.animation as animation\n",
    "from matplotlib.animation import FuncAnimation\n",
    "\n",
    "# If full github repo has been downloaded locally, uncomment these lines\n",
    "# from IPython.display import Image\n",
    "# Image(\"1dof.png\")\n",
    "\n",
    "# Otherwise click on the link below to see the figure"
   ]
  },
  {
   "cell_type": "markdown",
   "metadata": {},
   "source": [
    "<!-- For Colab NB -->\n",
    "[1R robot (click here)](https://drive.google.com/file/d/1aSBG3kNHr6wBTUF9SetZ0xkq7uHdxFpx/view?usp=sharing)"
   ]
  },
  {
   "cell_type": "markdown",
   "metadata": {},
   "source": [
    "One way to describe the robot configuration is to use the joint angle $q\\in[-\\pi,\\pi]$. Knowing $q$, the DGM enables to determine the end-effector's position $p=(x_p,y_p)$ with respect to a fixed reference coordinate frame attached to the base. In this case: the joint space is then the interval $[-\\pi,\\pi]$ and the task space is the cartesian plane $\\mathbb{R}^2$. The DGM equations are\n",
    "\n",
    "$$\n",
    "x_p = L \\cos(q) \\\\\n",
    "y_p = L \\sin(q)\n",
    "$$\n",
    "\n",
    "where $(x_p,y_p)$ are the cartesian coordinates of the end-effector and $L$ is the length of the link. The same equations can be expressed more compactly as \n",
    "\n",
    "$$\n",
    "p = DGM(q)\n",
    "$$\n",
    "\n",
    "where $DGM$ is a function taking a joint angle $q$ as an input and outputs a cartesian position $p=(x_p,y_p)$ expressed in the base frame. It is implemented in python as follow"
   ]
  },
  {
   "cell_type": "code",
   "execution_count": 2,
   "metadata": {},
   "outputs": [
    {
     "name": "stdout",
     "output_type": "stream",
     "text": [
      "The end-effector position corresponding to q = 1.7 is : p = [-0.12884449  0.99166481]\n"
     ]
    }
   ],
   "source": [
    "# Define the link length\n",
    "L = 1.\n",
    "\n",
    "# Function corresponding to the direct geometric model\n",
    "def DGM(q):\n",
    "    '''\n",
    "    Input : joint angle (in rad)\n",
    "    Output : end-effector position (in m)\n",
    "    '''\n",
    "    \n",
    "    x_p = L * np.cos(q)\n",
    "    y_p = L * np.sin(q)\n",
    "    \n",
    "    p = np.array([x_p, y_p])\n",
    "    \n",
    "    return p\n",
    "\n",
    "# Test the DGM and display the result\n",
    "q = 1.7\n",
    "p = DGM(q)\n",
    "print(\"The end-effector position corresponding to q = \" + str(q) + \" is : p = \" +str(p))"
   ]
  },
  {
   "cell_type": "markdown",
   "metadata": {},
   "source": [
    "The IGM solves the converse problem: given an end-effector position (task space), it returns the corresponding position. The IGM is derived by inverting the DGM equations, i.e. by expressing $q$ in terms of $p$. Recall the DGM\n",
    "\n",
    "$$\n",
    "x_p = L cos(q) \\\\\n",
    "y_p = L sin(q)\n",
    "$$\n",
    "\n",
    "Assuming $cos(q) \\neq 0$ we can divide the second equation by the first equation\n",
    "\n",
    "$$\n",
    "\\frac{y_p}{x_p} = \\frac{\\sin(q)}{\\cos(q)} = \\tan(q)\\\\\n",
    "$$\n",
    "\n",
    "Therefore the IGM reads\n",
    "\n",
    "$$\n",
    "q = tan^{-1}\\left(\\frac{y_p}{x_p}\\right)\n",
    "$$\n",
    "\n",
    "The following function implements the IGM (we use the arctan2 function https://en.wikipedia.org/wiki/Atan2)."
   ]
  },
  {
   "cell_type": "code",
   "execution_count": 3,
   "metadata": {},
   "outputs": [
    {
     "name": "stdout",
     "output_type": "stream",
     "text": [
      "The joint position corresponding to p = [0.3 0.5] is : q = 1.0303768265243125\n"
     ]
    }
   ],
   "source": [
    "# Function corresponding to the inverse geometric model\n",
    "def IGM(p):\n",
    "    '''\n",
    "    Input : end-effector position (in m)\n",
    "    Output : joint angle (in rad)\n",
    "    '''\n",
    "    \n",
    "    x_p = p[0]\n",
    "    y_p = p[1]\n",
    "    \n",
    "    q = np.arctan2(y_p, x_p)\n",
    "    \n",
    "    return q\n",
    "\n",
    "# Test the DGM and display the result\n",
    "p = np.array([0.3, 0.5])\n",
    "q = IGM(p)\n",
    "print(\"The joint position corresponding to p = \"+str(p)+\" is : q = \"+str(q))"
   ]
  },
  {
   "cell_type": "markdown",
   "metadata": {},
   "source": [
    "__Question__ : For which value(s) $q$ do we have $cos(q) = 0$ ? In this case, can we still use the IGM we derived previously in order to calculate $q$ ? "
   ]
  },
  {
   "cell_type": "markdown",
   "metadata": {},
   "source": [
    "Now we summarize the geometric model of the 1R robot into a python class"
   ]
  },
  {
   "cell_type": "code",
   "execution_count": 4,
   "metadata": {},
   "outputs": [],
   "source": [
    "# Class for the geometric model of the 2R robot\n",
    "class GeometricModel1R:\n",
    "    '''\n",
    "    Environment class for the geometric model of the 1R robot\n",
    "    '''\n",
    "    \n",
    "    def __init__(self, L):\n",
    "        ''' \n",
    "        Initialize model parameters\n",
    "        '''\n",
    "        self.L = L\n",
    "    \n",
    "    def DGM(self, q):\n",
    "        '''\n",
    "        Input : joint angle (in rad)\n",
    "        Output : end-effector position (in m)\n",
    "        '''\n",
    "        x_p = self.L * np.cos(q)\n",
    "        y_p = self.L * np.sin(q)\n",
    "        p = np.array([x_p, y_p])\n",
    "        return p\n",
    "\n",
    "    def IGM(self, p):\n",
    "        '''\n",
    "        Input : end-effector position (in m)\n",
    "        Output : joint angle (in rad)\n",
    "        '''\n",
    "        x_p = p[0]\n",
    "        y_p = p[1]\n",
    "        q = np.arctan2(y_p, x_p)\n",
    "        return q\n",
    "\n",
    "    def animate(self, q):\n",
    "        '''\n",
    "        Animate the robot using DGM \n",
    "        Input : sequence of joint positions [q1, ..., q2]\n",
    "        '''\n",
    "        fig = plt.figure()\n",
    "        ax = plt.axes(xlim=(-self.L -1, self.L + 1), ylim=(-self.L -1, self.L + 1))\n",
    "        link, = ax.plot([], [], lw=4)\n",
    "        base, = ax.plot([], [], 'o', color='black')\n",
    "        endeff, = ax.plot([], [], 'o', color='pink')\n",
    "        \n",
    "        def init():\n",
    "            link.set_data([], [])\n",
    "            base.set_data([], [])\n",
    "            endeff.set_data([], [])\n",
    "            return link, base, endeff\n",
    "        \n",
    "        def animate(i):\n",
    "            p = self.DGM(q[i])\n",
    "            x = p[0] \n",
    "            y = p[1] \n",
    "            link.set_data([0, x], [0, y])\n",
    "            base.set_data([0, 0])\n",
    "            endeff.set_data([x, y])\n",
    "            return link, base, endeff\n",
    "        \n",
    "        props = dict(boxstyle='round', facecolor='wheat', alpha=0.5)\n",
    "        ax.text(0.05, 0.95, \"One Dof Manipulator Animation\", transform=ax.transAxes, fontsize=15,\n",
    "        verticalalignment='top', bbox=props)\n",
    "        ax.grid()\n",
    "        ax.set_aspect(\"equal\")\n",
    "        \n",
    "        anim = FuncAnimation(fig, animate, init_func=init,\n",
    "                             frames=np.shape(q)[0], interval=25, blit=True)\n",
    "\n",
    "        plt.close(fig)\n",
    "        plt.close(anim._fig)\n",
    "        IPython.display.display_html(IPython.core.display.HTML(anim.to_html5_video()))"
   ]
  },
  {
   "cell_type": "markdown",
   "metadata": {},
   "source": [
    "__Question__ : assume that we are given a sequence of joint positions $q_1, ..., q_n$. We want to calculate the corresponding end-effector trajectory in the task space, namely $p_1, ..., p_n$. Using the `GeometricModel1R` class defined above, fill out the code below to generate this sequence of end-effector positions. Call the `animate` function in order to visualize the motion."
   ]
  },
  {
   "cell_type": "code",
   "execution_count": 5,
   "metadata": {},
   "outputs": [
    {
     "name": "stdout",
     "output_type": "stream",
     "text": [
      "[0.00000000e+00 6.40702200e-02 1.27877162e-01 1.91158629e-01\n",
      " 2.53654584e-01 3.15108218e-01 3.75267005e-01 4.33883739e-01\n",
      " 4.90717552e-01 5.45534901e-01 5.98110530e-01 6.48228395e-01\n",
      " 6.95682551e-01 7.40277997e-01 7.81831482e-01 8.20172255e-01\n",
      " 8.55142763e-01 8.86599306e-01 9.14412623e-01 9.38468422e-01\n",
      " 9.58667853e-01 9.74927912e-01 9.87181783e-01 9.95379113e-01\n",
      " 9.99486216e-01 9.99486216e-01 9.95379113e-01 9.87181783e-01\n",
      " 9.74927912e-01 9.58667853e-01 9.38468422e-01 9.14412623e-01\n",
      " 8.86599306e-01 8.55142763e-01 8.20172255e-01 7.81831482e-01\n",
      " 7.40277997e-01 6.95682551e-01 6.48228395e-01 5.98110530e-01\n",
      " 5.45534901e-01 4.90717552e-01 4.33883739e-01 3.75267005e-01\n",
      " 3.15108218e-01 2.53654584e-01 1.91158629e-01 1.27877162e-01\n",
      " 6.40702200e-02 1.22464680e-16]\n"
     ]
    },
    {
     "name": "stderr",
     "output_type": "stream",
     "text": [
      "/tmp/ipykernel_665692/1983737448.py:55: MatplotlibDeprecationWarning: Setting data with a non sequence type is deprecated since 3.7 and will be remove two minor releases later\n",
      "  base.set_data([0, 0])\n",
      "/tmp/ipykernel_665692/1983737448.py:56: MatplotlibDeprecationWarning: Setting data with a non sequence type is deprecated since 3.7 and will be remove two minor releases later\n",
      "  endeff.set_data([x, y])\n"
     ]
    },
    {
     "data": {
      "text/html": [
       "<video width=\"432\" height=\"288\" controls autoplay loop>\n",
       "  <source type=\"video/mp4\" src=\"data:video/mp4;base64,AAAAHGZ0eXBNNFYgAAACAGlzb21pc28yYXZjMQAAAAhmcmVlAAAoGG1kYXQAAAKuBgX//6rcRem9\n",
       "5tlIt5Ys2CDZI+7veDI2NCAtIGNvcmUgMTU1IHIyOTE3IDBhODRkOTggLSBILjI2NC9NUEVHLTQg\n",
       "QVZDIGNvZGVjIC0gQ29weWxlZnQgMjAwMy0yMDE4IC0gaHR0cDovL3d3dy52aWRlb2xhbi5vcmcv\n",
       "eDI2NC5odG1sIC0gb3B0aW9uczogY2FiYWM9MSByZWY9MyBkZWJsb2NrPTE6MDowIGFuYWx5c2U9\n",
       "MHgzOjB4MTEzIG1lPWhleCBzdWJtZT03IHBzeT0xIHBzeV9yZD0xLjAwOjAuMDAgbWl4ZWRfcmVm\n",
       "PTEgbWVfcmFuZ2U9MTYgY2hyb21hX21lPTEgdHJlbGxpcz0xIDh4OGRjdD0xIGNxbT0wIGRlYWR6\n",
       "b25lPTIxLDExIGZhc3RfcHNraXA9MSBjaHJvbWFfcXBfb2Zmc2V0PS0yIHRocmVhZHM9OSBsb29r\n",
       "YWhlYWRfdGhyZWFkcz0xIHNsaWNlZF90aHJlYWRzPTAgbnI9MCBkZWNpbWF0ZT0xIGludGVybGFj\n",
       "ZWQ9MCBibHVyYXlfY29tcGF0PTAgY29uc3RyYWluZWRfaW50cmE9MCBiZnJhbWVzPTMgYl9weXJh\n",
       "bWlkPTIgYl9hZGFwdD0xIGJfYmlhcz0wIGRpcmVjdD0xIHdlaWdodGI9MSBvcGVuX2dvcD0wIHdl\n",
       "aWdodHA9MiBrZXlpbnQ9MjUwIGtleWludF9taW49MjUgc2NlbmVjdXQ9NDAgaW50cmFfcmVmcmVz\n",
       "aD0wIHJjX2xvb2thaGVhZD00MCByYz1jcmYgbWJ0cmVlPTEgY3JmPTIzLjAgcWNvbXA9MC42MCBx\n",
       "cG1pbj0wIHFwbWF4PTY5IHFwc3RlcD00IGlwX3JhdGlvPTEuNDAgYXE9MToxLjAwAIAAAA8nZYiE\n",
       "AC///vau/MsrRwuVLh1Ze7NR8uhJcv2IMH1oAAADAADVaeUGU/F8HDusAMQDkKW5N1RMvqhe+MpT\n",
       "mxLSARXJxzEZcSDrAABOFbni/QtH1tgyV49m/jGwUZbAceU2NiLnn34WkCPFZy3Qc3GJSQ73H6bb\n",
       "l5huMyYATzZ8beET7hDJt/TXloQH+Oq14DAdOdRzrVbOHouXeKnTA829F4+5RAEqhLzsVcjdSLwy\n",
       "d9ox77mwJTPsxc9F7eYvmftzFlc4/5S72ERKPmD5u5jxGTpX8fpfpEsyDRKSHGPN6i9aOelldRj9\n",
       "Z19BCs4+4q0QyICQL60TfBoh4nVz6cURqwG30AqXvwg3MBb7r/dB3NHZTXO/blbgXS8DwsI8Y1ox\n",
       "ArpjqxTYgX4A3APZ7NJESMasxTXbBi4sccp4ukMT7Z6FLMZnw+2b20vD5s8yI1n6HEJtoQ4KscdK\n",
       "J6/BVwqfGMZwZBXce97LT+njBA8FX+3XE7HSR5V5rvYq/KbbmpzW90bjb5eyOUvtikI/ZDGMMN1l\n",
       "ZRcS/LVoLXS59I9aRlN1xEZX6x98znNK3Rcxb7dF9SuQHyiLcLy8FNc4cm7sWwqNeuAuec518ATx\n",
       "8D5YHW9gGD6d3o6NvCjBM+1gjB87q7shBOjG3OgJgDqtCaMHPDIB3HgWhdrDeUGtGCDCENiOv2kx\n",
       "VS451A23/LzsykIsrQcsyuC/eXVuQynIyvBn+Hqg249A4wc3SNeJU/AMsBns8jrGLApmryvMKdy1\n",
       "3aio9BZkptoIeG0sw4GASuDzwdPDgBnZSlfFP5PCSspCO/FRLiDceuIG1Za28w5YokuK9PNBL3XI\n",
       "8ka6+SHSECeEe2iKrZMR8COtjoboah0l3VtfrzZ2dVSsunKzgA3kB95WVNvxqmv8jL8NeyPg0GfZ\n",
       "6/Pau32CTURP0EeaCvqoSoGY1q4m8KQ93PiXrf6+eXId/1DI1qCDcqwZJCs57+Dc2Qogk8oDMLAq\n",
       "9yvi1TzBbBHIp8oeLgXWpnAZsByE8iOKeJQGEHv52sqTCruUa65auFTfpXZD/D82wn1eaKHLBjsi\n",
       "pyl1mRhL/Y9eQSWQ/PW6U5kmiu3nTcbGvInLpXZ8mr8RTvqPNs6xL49dckBwSPGafG2970MOSzzF\n",
       "NlAF58BQRlfjPq66dRC+NXcybILDN0Y8snEUQ8eQ2wy3ErvDE8tMKDqWRjqX0Kg2T/35S1WjlWdl\n",
       "pPML8MU0e6e8979YPK+s063ixkdEpsgFOzVGP2954MB5yaTBjkMuAupT8XtIU9OZKUsqSXFt+Q1r\n",
       "xHKsrsrpV8o/uQQmBL9b6yyEqzs+Z7NkMvk23hvIEKTaOAwuTfMULaVhx4+ABZDmlkA8+DYp6K5s\n",
       "tFalCa0DFOFB0Kx2GsM2YTsAT5fzF51FXKYCpKcJ5f9OqRzfzRyLH4VoUiwR2phkTtxBN/2OzSlU\n",
       "/z60tmUFZsLNW9DbeiaYutyno7Cr9FNsDvegKdi+L4F4V9/MzyKc7CpedScVuja/2Bpir715LPsG\n",
       "ffp8wAUFAYL3zQ0j8V9n6U417xEChn2+TpBrniCIqX8jpwQhRHGDn24GpSgRkJwL3SMl9c1ixoxC\n",
       "kLq1LvaUTmJF+7NZiLmg1nU4pRUF5y+hYRo0KYfI1LLtMiCY4aFcrWEu+yGgszl8xMESNJvCSWHn\n",
       "A39vehmlmBDH2GA7Nz6Rw9WVvsDQlzy5Va/IYZkiMtUY53x1q6rncOG1vvWsXlEk6+OvJzwBnaOm\n",
       "9wLzBA3KCJ/z6tzED7fmG1rZPDJ3Ft6W7qh4Tgmct6ujy0b8oamBmhCvDOX9uP8clte28HGIumOj\n",
       "usGtuBU0ENINS2gn3CqlZ6N2Npzrt0ehcunhEkFDgfEbkmcIJserxPT77G4ZtWrtF1QGMlmt2sSY\n",
       "6ndLfRyWeSKqx5uHg989JC7DgZ6uQ36WG6saWcGWJrwCvUOytPqDHwdAh+80j6Fk86psEE/uBYDS\n",
       "0iyTwLAhRWKl+UCgKy7+vuvjJWt8FhDJoqfDL3UO5iuno0dOKTSOyS5hN58m7RJg6hrzTvREAcWf\n",
       "LrAhiQ5Zo0fSlNrURXAThTQAtHb7VYRtAHsxWxTrfYEH/LA2+Oazs7Lte7WBPBjjKld3mZG1SiMc\n",
       "0Wo3spXEELLHs3hE9r9sVz5RC4836Yoi23VAHeW7WtIusvdKHPTNyNsV22dzjQFlOAQqAnwqpSok\n",
       "xstXFK4ITf6VQZOG09mBsiH5cCzOc/1YTeVLJSgc3jUjxNcOlW0PyO/th4mr8gNJYMzVctu8tJyp\n",
       "aVt88TaQ/o3tglERqK0kciR8YSjW4XG/rkxx02vA7I+nd7b7TLu7oipMG0h8HV0gi2fMTtw23WLA\n",
       "0bOIHnvE2lqhytx0rdTorIyKD1xaenrNU8I9qUOFVQDfOvohV+4xpx6AkFxGhMSHKpo/LwsNs+sJ\n",
       "izfMRRy/oI6Jt0yFRmMCuSICj6WDOLqACEBY72Jdw+PxYNxXa4rPf47/s4VA7+dd15yBz0DnDYux\n",
       "DfbJfF15NunNW6wWPclPgjNnv0W9xYo4y3R5DHrtHU2fRp34kVtaZKVjs6lsgBww98ypCge7bYHU\n",
       "+aGNaBLngOJW5BiR7/LnQkXBJBCU+noGm5oBVi+wBGiuCstERjjJh9Iis11ZMxociqDIvV58EaC5\n",
       "XzN2P2xLBGzZrfeLR1KGv8tYEYzmaHcS6IGuEjnDaa6hR++YhhohqvPqNZonRJYbtoZjlNdXsJSn\n",
       "9+b54i1oJAXT4G6jFnnYUoANTbgQH/Gk2q/MJKsmiQj6gMqFJ0jhI/rHogH7IzKjbybz/sDzaJ/7\n",
       "DaHGVgI4hpSuj0yXLI++K5B9AF5yncHF6u+wImb1oh4U1mTtDNZsEdiuaeAlMvuQZUgUcLgHRz1Q\n",
       "mDF9qpV1V1WLOcVodea5VwbfnMDNguS5didLZ6PQSvvvGJtTNIcr2PLUB/rubQyznPRwTuFHv3YG\n",
       "361NVwvTVAn3AL9vWKKhSzx8cuXp9YWDWHyU+Ol2yhK9omARYaZz/7/sWkwJCJyDbsMrvP1G4Wgl\n",
       "aCNMk10yna4ntN98meaGufagM1oVBbr8MOgqedKoJ9QpLIu9L1ZUu8HlWoQDBvahyHd4EOMbFejd\n",
       "SJGHMqNawD6Ryw4MCfinoLl7R7a3feRLFQIGi7M3gGEonlKrqEAm+D7QVAhqI8zE+ZfxypKnnpdM\n",
       "CHqA0j3E0EbrCGXjkLAYjD2b3tmdNsRwT/e9yBnn9Mq8XknWrM3Ahh2M3FAT3yeEmzTUHpS9f802\n",
       "bWOi6PQhIc4/giKC7aMGAKHPngcsa6iXPeRE0G+E6h7BgvBp4b7th5ctMrPTEj7vxywjbtmVFupb\n",
       "WqlGSQToLjCEYrlsvxwGuL/O00lAiE/ZHVpksFwKMBHzPYdXgvVTzZmOdeemh4lkAd59Vodd/98j\n",
       "Sh1I7khY86y6IPwNKLGiPVEfFzo5KsDRu+Ja5IbFVOp9SVirxYr5UdDB5Ur/F06an9S2NXniE50z\n",
       "vavXEtHt/20Bx2xwaKs2JecjHHXLji8/afz6Vtj1FY5mt6f+L7sAJLY1/kkkwOa46bZ4gocn751e\n",
       "Uolf5nh+ib/dpFWotd0sCSabAYILyZfSJ82rnp2SrMxjjvDzVt4LcNZ6pXOYKzKvToonsXZOATGE\n",
       "MnauVa0NZSebnqgKX1MxOlQ6l9jo2wU5p86Et5WWApzBs8NGQpdoMKy08e5qtvbg8IGxR5y8gp4A\n",
       "3ZfpbKldMWRJFnr3grxDH2LG4DWpBqelI62WQIIxhcKKr+d5iTj3Zgah2iKRG7Ci4yQ41707I0EM\n",
       "x+H9XYoefkX8RchsQK0yqQCVBoC/NBJ5L5IYd8HFfrD84OywQBgodRq5akEQKRAt3RK67/Ou4qNe\n",
       "5bVvXvEufqzMITlgcVsqff6n46zZgRX7+R8FgOYZ/dMtRb7m/ImUpwtg3opO83HXz+8r+Yt1elmT\n",
       "EOKRK/M4zBuI50VfTFmKLeGJmu7AJdk3gxc7RM7kPWzBW86cYlKuOhsOjOBGuB8b+kxuOuC3Gq2B\n",
       "F58uxpGws1066cGAAFQsFbMZX5AhGZZZ0f8ZA84uWKZ4HkToPN2JVRCdhPHwXfoFrs01NyGlYPZx\n",
       "+wCI07JkQPcGo0QmX0psozA7New3xVGuHW4hAw6C+5oMu6BbpmgiGRiNUMnOTMnYelVOzqcSChiZ\n",
       "DeqoXjvB6paOokRE3K6qROqj/Y82iWiSZ/3fx9ktfQ8acfrF1py9smXOJqgIaVCw/3nBk8hr7oDN\n",
       "fBG6XArtoKwJkL7m4Cqrr0v8DAAAFb+VwOdLKnqXXyyADUN3PUn9BN0zhi4MKX0OiP//ttscO6qj\n",
       "7rGL9IbWic93HRYXZECxIGoeghld3rsR7LuASqkRGUr/PJO1P71e1wBNW8zJIgan8OI2sCBLZQ99\n",
       "vegPNrc1SW5Z9M+txvnkQEwrkurGYwydjTQdtNtFSGgwp5u4ISi7reYEPTZQEGNpuu+EekgJkvqQ\n",
       "Zox9ku2CsI1RtD/Akw8ke6lMQTIihBTNhi+7ACo4Z6e1J1MDgIgPr5Rd7M4ExiWsgTetedcZjth0\n",
       "5jJgVIGa30rTAZ/3zsJb3uSH549I2eTrsS9xlc9ULP6jeMFRgMXBmIuh2T1gv/4cc++vEbhAlfD6\n",
       "0lPh7R0tRQws3L8L+wmpAOWtML2+jzyo3yArZOh8YHnWzMSONO4Zn1PwVmvSJyh+uBB6wfWXamYw\n",
       "oY1YYNUv10j/ZmVqRGropsvd3Ch6Py99m8PMAe6Yhk/TO3jy/iH+GD4D//c1t71GI7l2zGEYggKc\n",
       "Ic4aFBh4rBuC5qjS/vwcMwvHD/EggqbV4tGMUpKKwZ/ftvn/5C6WdPDU024CHdMwS0bRYPjYKoJq\n",
       "IlakO5EU1UsJOqZsjW1JL+y7glcpJdpfLcwr7A9gx7XXfo5wDKIhZczQR+F6AIWqJxmAFL4xkCYW\n",
       "Ny+ohOiUYnkYZ5pK6w6Om4FFiSbA1fuIspHOHgT+EIEtFCM5kUQpoTDRb5/qkuMwKSNj6SCijliC\n",
       "kXjeRws7ziaE95/xJi5/Gbyn2rNdb0S3dL9gGHO/qd/EQYa2uvmpFaTaZLwZZuk3VVdtV3e7d35c\n",
       "PGK4VNZqQWbUwsKVgNSEx0q+j9Ma9E6dqVOcs6kyuVvzHxPIxdABdlmKdKjXgAAlYgJ0uW3NyA3J\n",
       "AAABDEGaIWxC//6MsAWFU6IBqVMgPDEk5MQYn/ZZntTp7LwfwEj0yN3Ui+mk+diPw6YQoPsv/7zO\n",
       "GIONv/ztSGPyv/ZZX1h+juvTjqzNXBuq0AGmcKnOl58pOYSPC44ryJPHmlJL2AYThnka+c2pi4eS\n",
       "wQ4poFqHP+i5ymOcEymJLEfQa/pb0UsLZYEaSSKxBkMxP1WBqDDf4xS6QdckJotJQMaZIn8AulqY\n",
       "xIDSfNBPmNm3vUg7eqHQjiqHfL90lyM36Pc48TH/rIpNNwUkQWDdexEn2N4yrKFNs26kcfv5rjUH\n",
       "b0eaGJy7RD21WZvoMq8cSDb0yIIvP//ODq5pHPpMqPZzh4+aF4AI6DI16KAAAADzQZpDPCGTKYQv\n",
       "//6MsAMt63gjJQuQEAQR0X0kbIDalMOM4Qzda2tbC+etTSHgxobFSikmYilX1CKoD/0l8R3r3y0O\n",
       "alxcRh1M2Fy74DQYBpKODjXjbpe5rUgaVLZFe67hywdF0lPXs8KVhTgk5Z2yNX2ZYWCpD8PQb5uD\n",
       "zwMtTXaDUoMghJNj0HpiLXEEuV6sk7/mNHmTPj6HWmIiG1B0sr86iXVGAt/P3c2xWhOl6CvxsHy5\n",
       "D1lpOEkbT+jQReH1LwzKYVhMwfAsu4k1BEGRuT9q8DCdYmCuox3sN4poIwnC4obnFoZnL8UoO4OA\n",
       "UgyzZATxAAAAYQGeYmpCPwD+ASGSkZxuBIx6tmm5UmUG7byPN1F9vS70QAlh6Jr67OvRIDeZGOu/\n",
       "hwcfBK4w2gUwb/Xf8NSZUFXVypCUP23KTIOT/jVRnwaDx251gp0biz49cTqEywuOwRgAAAEdQZpl\n",
       "SeEPJlMFPC///oywACc7LT4gnEWACWrVaGNO1OrB/j25Ypfry7jV19/io1mAXqOv6qrH7x7Q6KlN\n",
       "WaXoTMdC4DxRustAjm8EQc9YuBH7ctM1CCTU1HSCw6xMaPcV+BZRzvqcK4LH2qaId3HJGckuXWRl\n",
       "Crp0Rfnqu0YRIrJFF2mQ9rR2+aBwkzd2IbMsEnBm2wfBVn4A4DejJIXQ9aEbiLhaXXvZ2XMs3WnH\n",
       "dCRiqRHgltOe06Wl45aQNd80bx51jzObsARijzDOVopTNWjRz4FsBGOgqlO3wEPk91aQk7dyKqrE\n",
       "9s94RC4KLFxFvEqq/EM+DsiegnGM20FUQMPMht3simvgzdgGfcgcLRigcL8sbJuPucRGqpKhAAAA\n",
       "VQGehGpCPwA/hlVh9Ig8IwNDp2Rx7HjJAAsppyJfsK9qiryHjtj49//RVHy/3PEnW+JApMAzit4W\n",
       "mzl4e5GRfSwIHFhiHH7FXbE+29+ux6I+pLHF90EAAADoQZqHSeEPJlMFPC///oywAEwH+2AK36LD\n",
       "nZdDrDgnh8zE55/2mHmqnEz2X8EHgQnC/SuQS4CkC0Aovv/nkB7HDM71mJQEzQ3+5LiCC1O3esip\n",
       "PNNS83R8NF4wAntaGvQzvYlLE4lGtMtgkg/LJgvV6TiH5U8s1nO7ye3MIUpOP9MZ8AgHknIDbWnt\n",
       "UkF+gB+x9VjJr7PMOO9z6n5a+fPu1UMLo15zB/0CEM31n3KFhiWg4f366K22/RbNftc/0LQp+mJM\n",
       "DUcgMvr80qJtUD+vrweUgdRBEW5QTyy8K/vrWnYw1jFMpItaewAAAD8BnqZqQj8AP4ZWQOm5ySYn\n",
       "dqA/zYnOh1z/I58eshtcb76pPYi62g1AQG4ECsLaob8to34mOy2mPlg/CHmyWcEAAAC3QZqpSeEP\n",
       "JlMFPC///oywAFC3x54QwgAkvNgpMG1+RDEvWT5XmMU7VVc9FNlNzHnv1ZNOwnd3hb8Jy0dnDipl\n",
       "Q7mgQRJNcKyVSbJHE/I5rUme0ikFfboyDfrh4pr98u45Me71j31aM/ZAg+1/2QarpaK3rPJ1aCN1\n",
       "s6dgfZVhBAntLWFTFrba3edPKNQHEtmM+2tfyQ5THQxLPFhcKi3IdlFjMrSDZwEL4YeeIYulZED4\n",
       "xfEF+IuAAAAARQGeyGpCPwA/hlZL6S43zjW+AC3jRiAslNJznQbbDgKIJgJ8E8+F8whKHoKrNcJS\n",
       "gvM9096WK0yvc1qw4Hj2aJ3SNtrA7QAAALhBmstJ4Q8mUwU8L//+jLAATihAQuDgBNI5+Mt+UCcI\n",
       "wgIAAnbuzdW+iyr5rOqtHyZ16SnD4QZAI1vxt4zRXIQTta8YlQJA/8q+Rzi096gJvelk0FlLpPc/\n",
       "g5xKIH5Yz1A1H3XAiT/6PGOxce1mHxYdTEYX/zyKmVssaO3w71+I7CxV7XVGfRHlldTZD2HP7JnD\n",
       "1v36MGYpFBuyX6mkrGJwQ+cuECxb3FozubCIuNBosx8iEkWP7CPhAAAAUAGe6mpCPwA/hlZJcb2T\n",
       "HABYbsUcxaGxF/+g7/znX7uA8S39b+Tlp/Ab4vslH0sXWmDetbCpcl90WJ3APfr9xV2SapA3NMA/\n",
       "EyrJeURvu6gwAAAAykGa7UnhDyZTBTwv//6MsACcD3IAQj1KFAEF5aYts6rSJ7rQ+MvUc4wJe5L5\n",
       "JMxsrJKqfcMQr8TiDQXe7sGGkWMlTy78WX/CTm/MuFi8CnUrbhKt3Z96r/CRRbVGYWEZYcUKX2g9\n",
       "QriIAXLqsq31sBPdCKiIx2TJ6fhGh8Qj1EuWZgTRW180CoaFGV3s+goLvRZDZpMagfw0CuXYyYMu\n",
       "onWz9FABMR3HFnlHGoZoUF0CbMWDT7gfAQUkEa3w/TjCWTcNWI4Z7oIFGVAAAAA+AZ8MakI/AD+G\n",
       "XS16Adtfnmjr3tTB7hkAHxdFEZ1QKSXPNmf+hhyyI7l3xbj514anq0hMWO66GKG/nT7PicEAAADL\n",
       "QZsPSeEPJlMFPC///oywAJxSWEYeIALZ6lCN2nI1gUA5U4H/mZYJiJ/R3G7/ItdrzT0g9opIIEHe\n",
       "SkqjLTSD/ZxV0Jbikc83WyER4ncywu8zNsgd2XRA8rhJNQ0i/nFWs4ksqjuosEBr458t7kr2vIZi\n",
       "L8kC2Q4hm1ryeHaAMbWMycwn1y+CQSM0TcRvHSrSWtZraZYPwAYxKFkm9tvfdrbxYYk+qVZ4qPQ4\n",
       "dG4euZEdxwn8gIV/1qnb0zL8SPL2galkEZESsDP1wXsAAAAxAZ8uakI/AD+GXQmuCnTQttJTCbQz\n",
       "pSRZtGbACZJGmfStmtmVxPr7eIJj7KNMEKDegQAAAMBBmzFJ4Q8mUwU8M//+nhAAnvp3U3+ffgJO\n",
       "J7gAWmZ34JC5m2Hjw9hAXnU22hRFSxmUtCOvc8TPbNXkOiXqcvOOtVRg8ZbfKf03+Wj97i7yTxy8\n",
       "YEE9R7s1nBN435LeM/ITq0/brvJDwLEi+h5TYZHwgkd4Xg4swFC1rCCOLktAeGJdbidpZWT57TKI\n",
       "/spOWZ6c2tT+UDD8E5oRd03mg8Z8jRRIZvBzrhp2jJUyM2ozI4/WEqumQT89X7zy7I98F7AAAAA5\n",
       "AZ9QakI/AD+GXMSaxN0Ojx4wAmkqprOqZbQu5saS++8iWPwg3aHZsqjF7Ey6ffrXvLo7qzTyBROA\n",
       "AAAAyEGbU0nhDyZTBTwz//6eEACfN0y/UgE1hLUnFOgdBOLOkLPIrGjh+BMNRKM0up2TOM7xZPu6\n",
       "Ce96qMd7tfmnDOoWWAAc+7cWvXgACo7RtcN8DLtZutyat04HTn23/giOWO7PTkX7cPPvVgT3AOjE\n",
       "gDEuvZQwM4rplFN31m5ukJWXiYjZPuQrF1Lvw5O5O5wlrj+pnkNcECdSqZVf1boKv+9VW5/ccdN/\n",
       "L4qwy/ohcOwQ6NJEQ1JQzaeAFZTzKiu+faJK2KRoUnLBAAAALgGfcmpCPwA/hl3cHpOt6U91cAAJ\n",
       "2WrqX0xYgGZIjFCiS3anqFO4WGmaXkn/kWAAAACVQZt1SeEPJlMFPDP//p4QAJ66461i2HAEJqJQ\n",
       "XRle5elIJHktpTvlcEoPSx//JxRteEnmXrCVEEp2olAzB20HcY9a1kutKeDBwKPG+ie+gIL/ATkJ\n",
       "iHQchBOi9G9bxpFvTq0Eg/6Bda5lP3Ey7gn4Ph6S71mMu7uKcdUVSGLwTf3GLxSmHpQUaLzQO43V\n",
       "uRbMGZJ50XcAAAApAZ+UakI/AD+GXfMzvXtnfC4ASXTPcV8e7rcjxustfxceET5OnkLfMWEAAABx\n",
       "QZuZSeEPJlMCF//+jLABN8pcpQ8wBQSaZAXuTgFo/5xPimsyCt8GBe7ba4uyrYd5OuPZz0iY5YAS\n",
       "lcXCtDVc3jG41no7eqxFQEUso8eqvEyBUxhWCxjersWDpfMh/+FE0zT9WkjMOLXg+Y/51wD6V8AA\n",
       "AAAdQZ+3RRE8J/8AVBm81yiwq5VWvqqoUC5mOn34i1UAAAAXAZ/WdEI/AGSuk7HMmM96fxr5qRBs\n",
       "asEAAAASAZ/YakI/ADOE1qaIXSNF1SJgAAAAKUGb3EmoQWiZTAhf//6MsAE4UynrYKV0FR+EehC0\n",
       "gBbGU9dZkKuONCXdAAAAHEGf+kURLCf/AFQuDn+FNOHAhjpd0lFH1HS69YAAAAAdAZ4bakI/AGSK\n",
       "koGt0KYlMlqFF6Pbp+dgB9HVpGEAAABVQZoeSahBbJlMFEwv//6MsACgVeiVHjmXt+oAJebHoLcd\n",
       "yJadU8ocSE9UTHG4p/Pe2ZjPsFxK4Khia8z8QApihzeYkDFaZpIRhAra7CYfuzfchpJywQAAACIB\n",
       "nj1qQj8AP5uY8P5NOPB03QqqPHPfD1ZK/tBjFvlxySXAAAAAV0GaP0nhClJlMCF//oywAKBStlO3\n",
       "oAo0KUftYwARBC/3Ho6Il7M+FoGDPnuvZl6JJ3m6k7cUZPahm+6gf9q2YyQlshA2iCi6ZBSSub4+\n",
       "1TZE7ge/+rWdIAAAAF5BmkBJ4Q6JlMCF//6MsAChcy5JQIm/3ioPgBB7q8eNAMf2VfwZ9pgscQhH\n",
       "DJ9CUxAOgdTQvtRCyJrONpoFNupNxJr6WbNOp0MOYwCw0tddsUuXAb5dIaDMZyurYBN/AAAA1kGa\n",
       "Y0nhDyZTAhf//oywAJvmUvtBbl/ivI2AEjNsaYrjlsJCyJ7bfdykwk2HXfsZ1Pi1yJnwJYXirruh\n",
       "6fLjGW6X5g3ksko8cTPoQXvxZuicN1Mj94fw1uKMnj2kOKHLtltudLsmHIJlyAN07yMoWPQwySw7\n",
       "Dp4axDELjpQLsJ2pmG+BoL5oVYltdSVRMtTQ8A5wONUE/TKLFBJmaRNm24OyDOyDWYPYqRCthC5n\n",
       "sJ1KuyqO81vUUcLb90X3H76+LzNzA+1RFlslx5HKmbaT4v1qGy61HTAAAAA0QZ6BRRE8J/8ANgZs\n",
       "Z839bYkAPn1umn4KRa8B5A6ACEYytDXUb+8ULHJd5iE+vUPREwTpgQAAADYBnqJqQj8AM5LoEq57\n",
       "WygAV4OEXnYxXKGZaaXLa0C22Nrdy2dtGI5PIM1ArBEOij9jK8JnomAAAAB5QZqkSahBaJlMCF//\n",
       "/oywAJzstPgoYIA5h64UAQFj4wpUMKU7onhEqP+z4J6HuEvha4JXoV2+ZC29ZihtO8wT8nlU4gwV\n",
       "YGpcEEtvu+MKZ4jS159ycGYNE0dxQdUelKzWJ38XDUcwc6l99sW9e1KKfjirvrnuAroZUQAAALFB\n",
       "msZJ4QpSZTBREsL//oywAJz8VQCaE3/50Ml4zl58ndm9YEqPTtyLBe/Ac5CS949ZEuJxKhAKnU5o\n",
       "gG/6DA70eQs4OEBEif+nN58vFWPR5oCyrMa1yeXoB7Wzv38mZamzdz1r+ZNoMRMhLfVQd9HIU2xA\n",
       "x2/O38B6VYAJqaqTxaradvH5gmWEZy85vEC2yMLg4Y3BQ8kxDNwOrNaMwcl8gwqnft5Dv6Un3/A2\n",
       "Hurs8Q8AAAA6AZ7lakI/AD+GXSHjOcTo8h5tBIbFwLJsYASsG2YNIaaxkDGOeiDAV3WA8tlhO/4G\n",
       "eXayvxoItUd6wQAAAGtBmudJ4Q6JlMCF//6MsABOLqQ82MsAEHF+pURHMLqS/LlZctm6RGuFvgEl\n",
       "h+FpL98dIoGG9ofkLXrv6AVUkh6nDvoBQzJaIQ2EtaBl1tI3ydQaL0e4skX+/LQnJ/vXbuszBt/e\n",
       "Ey597WIjpwAAAMtBmwlJ4Q8mUwUVPCv//jhAAS7YxeDrgEEgJcxIsjXOLR8mNw//0OqAJmFASos1\n",
       "ZKSUcaav2xrk+s4a/g6fE3zti67uqWNpH8Wf8Z3MlolpWNmoYs2hEyjCaI1jphbbVgz0q8VCPLNe\n",
       "crkQBN3ckujIftzQo8aB7PdCQs4kAKGlOgHC8/1SoOcxSxaOpWrM1T8pi0jHvEUK5LuzUdx01jNu\n",
       "960QqHIERVULyVZyDbD54qGtVl/fOrolz0KRQO8OxxRRP7NvD0Jlo409HwAAAD8BnyhqQj8AP4ZW\n",
       "SvX6AG67kAhauAVmE2xWeRzRxbnHD7dully6pE+DMB9IlhcRZ/ULiauEkq+hymePgP1ub0gAAABq\n",
       "QZsqSeEPJlMCFf/+OEABJuJfcFFHgBx7O4YEdiU57fOf3ZxT+q8QqxYTf2efTj3SvPE+rvx95zBi\n",
       "EUGhstf0SmcPBpTSdpwHg0vPtqZKk+hM86VDq8pQ3oqs9Bo4yQWM/B7U+2pJ7CTugQAAAH9Bm0tJ\n",
       "4Q8mUwIV//44QAEm4l9wVGUHuR/VTWD9OLJ0/RYhEADIyd2s8/qXKpgDxEq9HuQ4EmcUk6JWZsp7\n",
       "KJfCb1AQJ81kzUv1EYXSvLeoGuV/wFMr2kJbDTuhZABSM7ZqGl/dPisOOM9WmJWkzcEVArq6TcVy\n",
       "PlwZQB8iEndAAAAAc0GbbEnhDyZTAhX//jhAAJqniUShsBXDwAmmL/0e2IndH9BRGUJr5Br2ZuqD\n",
       "NQV5uKF2JOw7hSjav4b926FzxwwheiUlU4C1eYg6YxIwfzzfaRojhh7/prUZoJrkRjrxH6j2/ZPr\n",
       "ccRdpKVAzDW//+Z7oakAAABqQZuNSeEPJlMCFf/+OEAAl3wOqYY65PbemLdhuGzAB+BYqw6l17vm\n",
       "nu2DoF264uyhtYcbU24k5BOeNPmMo7VphEBXF5Pu4cK98Xg/OGDC84k+m7+4Z3/YNi9Mj69UZp2h\n",
       "jDSVJZXo5O/EfQAAAItBm65J4Q8mUwIV//44QACSpL2WXaH1AEOiHTqrHHz7clePDjij9i1TDnRr\n",
       "TLSJF8mxCx2wZSKO72uqhji4/OcvS+olnX31tihJl3nJwVwZjCGXWk0RQe6a5Znb7EZlIpSHXKo+\n",
       "y6trjgBM8CqBxHt6KdFbvxxD/kTGeMEBKI5lHYZR1IeN/uSh4BnxAAAAbkGb0UnhDyZTAhH//eEA\n",
       "Aj3z+PCJ2YWLHKMqQAmmUYYAOCwuyJv5XCfLtUP3WLJUaaMjKXkVfUbtMHFOL1Eq9qW7aFtgm4AG\n",
       "EG4INYTCIgzyY1dCJ1f6qaHGAs1aZnJxR8l03BngBz3j6io6bmVBAAAAV0Gf70URPCf/ADYGZjsb\n",
       "RrfBsf2dHm2MrmtHdyewhxQgJ09CkUAGk1HuKQH3RA3Uq574A8iiKyhWxob39bZRC/55JIcD4NJO\n",
       "OZFIyhybfEO3IvyHK1YKLgAAAE0BnhBqQj8ABpUkFAnk/qHqf0AHmV5vAlhh1ckKXK7UuC3uUDMe\n",
       "TUdNozx/wqVqLNVsMXr239EC8iseJ4E7z/1VHOa+E9q4Zp42pHLYEAAABT5tb292AAAAbG12aGQA\n",
       "AAAAAAAAAAAAAAAAAAPoAAAE4gABAAABAAAAAAAAAAAAAAAAAQAAAAAAAAAAAAAAAAAAAAEAAAAA\n",
       "AAAAAAAAAAAAAEAAAAAAAAAAAAAAAAAAAAAAAAAAAAAAAAAAAAAAAAACAAAEaHRyYWsAAABcdGto\n",
       "ZAAAAAMAAAAAAAAAAAAAAAEAAAAAAAAE4gAAAAAAAAAAAAAAAAAAAAAAAQAAAAAAAAAAAAAAAAAA\n",
       "AAEAAAAAAAAAAAAAAAAAAEAAAAABsAAAASAAAAAAACRlZHRzAAAAHGVsc3QAAAAAAAAAAQAABOIA\n",
       "AAIAAAEAAAAAA+BtZGlhAAAAIG1kaGQAAAAAAAAAAAAAAAAAACgAAAAyAFXEAAAAAAAtaGRscgAA\n",
       "AAAAAAAAdmlkZQAAAAAAAAAAAAAAAFZpZGVvSGFuZGxlcgAAAAOLbWluZgAAABR2bWhkAAAAAQAA\n",
       "AAAAAAAAAAAAJGRpbmYAAAAcZHJlZgAAAAAAAAABAAAADHVybCAAAAABAAADS3N0YmwAAACzc3Rz\n",
       "ZAAAAAAAAAABAAAAo2F2YzEAAAAAAAAAAQAAAAAAAAAAAAAAAAAAAAABsAEgAEgAAABIAAAAAAAA\n",
       "AAEAAAAAAAAAAAAAAAAAAAAAAAAAAAAAAAAAAAAAAAAAAAAY//8AAAAxYXZjQwFkABX/4QAYZ2QA\n",
       "FazZQbCWhAAAAwAEAAADAUA8WLZYAQAGaOvjyyLAAAAAHHV1aWRraEDyXyRPxbo5pRvPAyPzAAAA\n",
       "AAAAABhzdHRzAAAAAAAAAAEAAAAyAAABAAAAABRzdHNzAAAAAAAAAAEAAAABAAABWGN0dHMAAAAA\n",
       "AAAAKQAAAAIAAAIAAAAAAQAAAwAAAAABAAABAAAAAAEAAAMAAAAAAQAAAQAAAAABAAADAAAAAAEA\n",
       "AAEAAAAAAQAAAwAAAAABAAABAAAAAAEAAAMAAAAAAQAAAQAAAAABAAADAAAAAAEAAAEAAAAAAQAA\n",
       "AwAAAAABAAABAAAAAAEAAAMAAAAAAQAAAQAAAAABAAADAAAAAAEAAAEAAAAAAQAAAwAAAAABAAAB\n",
       "AAAAAAEAAAUAAAAAAQAAAgAAAAABAAAAAAAAAAEAAAEAAAAAAQAABAAAAAACAAABAAAAAAEAAAMA\n",
       "AAAAAQAAAQAAAAACAAACAAAAAAEAAAQAAAAAAgAAAQAAAAABAAACAAAAAAEAAAMAAAAAAQAAAQAA\n",
       "AAABAAACAAAAAAEAAAMAAAAAAQAAAQAAAAAFAAACAAAAAAEAAAQAAAAAAgAAAQAAAAAcc3RzYwAA\n",
       "AAAAAAABAAAAAQAAADIAAAABAAAA3HN0c3oAAAAAAAAAAAAAADIAABHdAAABEAAAAPcAAABlAAAB\n",
       "IQAAAFkAAADsAAAAQwAAALsAAABJAAAAvAAAAFQAAADOAAAAQgAAAM8AAAA1AAAAxAAAAD0AAADM\n",
       "AAAAMgAAAJkAAAAtAAAAdQAAACEAAAAbAAAAFgAAAC0AAAAgAAAAIQAAAFkAAAAmAAAAWwAAAGIA\n",
       "AADaAAAAOAAAADoAAAB9AAAAtQAAAD4AAABvAAAAzwAAAEMAAABuAAAAgwAAAHcAAABuAAAAjwAA\n",
       "AHIAAABbAAAAUQAAABRzdGNvAAAAAAAAAAEAAAAsAAAAYnVkdGEAAABabWV0YQAAAAAAAAAhaGRs\n",
       "cgAAAAAAAAAAbWRpcmFwcGwAAAAAAAAAAAAAAAAtaWxzdAAAACWpdG9vAAAAHWRhdGEAAAABAAAA\n",
       "AExhdmY1OC4yOS4xMDA=\n",
       "\">\n",
       "  Your browser does not support the video tag.\n",
       "</video>"
      ]
     },
     "metadata": {},
     "output_type": "display_data"
    },
    {
     "data": {
      "text/plain": [
       "<matplotlib.legend.Legend at 0x7f7bf1a964f0>"
      ]
     },
     "execution_count": 5,
     "metadata": {},
     "output_type": "execute_result"
    },
    {
     "data": {
      "image/png": "[encoded data removed]",
      "text/plain": [
       "<Figure size 432x288 with 1 Axes>"
      ]
     },
     "metadata": {
      "needs_background": "light"
     },
     "output_type": "display_data"
    },
    {
     "data": {
      "image/png": "[encoded data removed]",
      "text/plain": [
       "<Figure size 432x288 with 1 Axes>"
      ]
     },
     "metadata": {
      "needs_background": "light"
     },
     "output_type": "display_data"
    }
   ],
   "source": [
    "import matplotlib.pyplot as plt\n",
    "\n",
    "# Number of steps in the trajectory\n",
    "N = 50\n",
    "\n",
    "# Define the joint space trajectory \n",
    "q = np.sin(np.linspace(0, 1, N) * np.pi)\n",
    "print(q)\n",
    "\n",
    "# This plots the sequence q_1, ..., q_n\n",
    "plt.plot(q, 'bo')\n",
    "plt.title(\"Joint space trajectory\")\n",
    "plt.xlabel(\"Index\")\n",
    "plt.ylabel(\"Joint position (rad)\")\n",
    "\n",
    "\n",
    "# Instantiate `GeometricModel1R` object + use the animate function to visualize \n",
    "geom1R = GeometricModel1R(2)\n",
    "geom1R.animate(q)\n",
    "\n",
    "# matrix\n",
    "\n",
    "p = np.zeros((N, 2))\n",
    "\n",
    "plt.figure()\n",
    "plt.plot(p[:,0], label='x_before')\n",
    "\n",
    "for i in range(N):\n",
    "    # use DGM here \n",
    "    p[i,:] = np.ones(2)\n",
    "\n",
    "plt.plot(p[:,0], label='x_after')\n",
    "plt.legend()\n",
    "    # to fill out some vector p\n",
    "    \n",
    "# Calculate the sequence p_1, ..., p_n \n",
    "    ### \n",
    "    ### To be completed\n",
    "    ###\n",
    "\n",
    "# Plot the sequence p_1, ..., p_n (plot x and y separately)\n",
    "    ### \n",
    "    ### To be completed\n",
    "    ###\n"
   ]
  },
  {
   "cell_type": "markdown",
   "metadata": {},
   "source": [
    "# 2R robot"
   ]
  },
  {
   "cell_type": "markdown",
   "metadata": {},
   "source": [
    "Now you will have to derive the DGM and IGM of the 2R planar robot (2 links, 2 revolute joints) shown below."
   ]
  },
  {
   "cell_type": "code",
   "execution_count": 6,
   "metadata": {},
   "outputs": [],
   "source": [
    "# If full github repo has been downloaded locally, uncomment these lines\n",
    "# from IPython.display import Image\n",
    "# Image(\"2dof.png\")\n",
    "\n",
    "# Otherwise click on the link below to see the figure"
   ]
  },
  {
   "cell_type": "markdown",
   "metadata": {},
   "source": [
    "<!-- For Colab NB -->\n",
    "[2R robot (click here)](https://drive.google.com/file/d/1Pdow1aMbsOGwISPOVpTHg5suiEBJ0y4z/view?usp=sharing)"
   ]
  },
  {
   "cell_type": "markdown",
   "metadata": {},
   "source": [
    "__Question__ : Derive the DGM of the 2R robot, i.e. express $p=(x_p,y_p)$ in terms of the joint positions $(q_1,q_2)$. What happens in the DGM when $q_1 = q_2 = 0$ ?\n",
    "\n",
    "Hint: use [projections](https://en.wikipedia.org/wiki/Rotation_of_axes). You might want to solve this by first computing the point between the $p$ and the origin. Then, think how the point $p$ relates to this point.\n",
    "\n",
    "__Question__ : Derive the IGM of the 2R robot.\n",
    "\n",
    "Hint: There exist at least $2$ methods to determine the IGM\n",
    "- A geometric one using the [law of cosines](https://www.mathsisfun.com/algebra/trig-cosine-law.html), \n",
    "- An algebraic one (play around with the DGM equations)\n",
    "\n",
    "__Question__ : How many solutions $q=(q_1,q_2)$ are there given some $p=(x_p,y_p)$ ? \n",
    "\n",
    "Hint: There are $3$ cases depending on the value of $p$"
   ]
  },
  {
   "cell_type": "markdown",
   "metadata": {},
   "source": [
    "__Question__ : Write the GeometricModel2R class (complete the code below)"
   ]
  },
  {
   "cell_type": "code",
   "execution_count": 7,
   "metadata": {},
   "outputs": [],
   "source": [
    "# Class for the geometric model of the 2R robot\n",
    "class GeometricModel2R:\n",
    "    '''\n",
    "    Environment class for the geometric model of the 1R robot\n",
    "    '''\n",
    "    \n",
    "    def __init__(self, L1, L2):\n",
    "        ''' \n",
    "        To be completed\n",
    "        '''\n",
    "        \n",
    "    def DGM(self, q):\n",
    "        '''\n",
    "        Implement here your DGM \n",
    "        '''\n",
    "\n",
    "    def IGM(self, p):\n",
    "        '''\n",
    "        Implement here your IGM\n",
    "        '''\n",
    "\n",
    "    def animate(self, q):\n",
    "        '''\n",
    "        Animate the 2R robot using DGM \n",
    "        Input : sequence of joint positions [q1, ..., q2]\n",
    "        '''\n",
    "        fig = plt.figure()\n",
    "        ax = plt.axes(xlim=(-self.L1 -1, self.L1 + 1), ylim=(-self.L2 -1, self.L2 + 1))\n",
    "        link1, = ax.plot([], [], lw=4)\n",
    "        link2, = ax.plot([], [], lw=4)\n",
    "        base, = ax.plot([], [], 'o', color='black')\n",
    "        endeff, = ax.plot([], [], 'o', color='pink')\n",
    "        def init():\n",
    "            link1.set_data([], [])\n",
    "            link2.set_data([], [])\n",
    "            base.set_data([], [])\n",
    "            endeff.set_data([], [])\n",
    "            return link1, link2, base, endeff\n",
    "        def animate(i):\n",
    "            p = self.DGM(q[:,i])\n",
    "            x = p[0] \n",
    "            y = p[1] \n",
    "            link1.set_data([0,self.L1*np.cos(q[0,i])], [0,self.L1*np.sin(q[0,i])])\n",
    "            link2.set_data([self.L1*np.cos(q[0,i]),x], [self.L1*np.sin(q[0,i]),y])\n",
    "            base.set_data([0, 0])\n",
    "            endeff.set_data([x, y])\n",
    "            return link1, link2, base, endeff\n",
    "        props = dict(boxstyle='round', facecolor='wheat', alpha=0.5)\n",
    "        ax.text(0.05, 0.95, \"2R robot animation\", transform=ax.transAxes, fontsize=15,\n",
    "        verticalalignment='top', bbox=props)\n",
    "        ax.grid()\n",
    "        ax.set_aspect(\"equal\")\n",
    "        \n",
    "        anim = FuncAnimation(fig, animate, init_func=init,\n",
    "                                       frames=np.shape(q)[1], interval=25, blit=True)\n",
    "        plt.close(fig)\n",
    "        plt.close(anim._fig)\n",
    "        IPython.display.display_html(IPython.core.display.HTML(anim.to_html5_video()))"
   ]
  },
  {
   "cell_type": "markdown",
   "metadata": {},
   "source": [
    "__Question__ : Now generate trajectories of your choice in the joint space (for instance you can define sines for $q_1,q_2$ as for the 1R example, but feel free to try out different trajectories). Plot them as done before, and calculate and plot the corresponding endeffector trajectory using the DGM you implemented in the `GeometricModel2R` class.\n",
    "\n",
    "__Question__ : The other way around, now plot an end-effector trajectory you choose, calculate and plot the corresponding joint trajectories. "
   ]
  },
  {
   "cell_type": "markdown",
   "metadata": {},
   "source": [
    "# Summary\n",
    "\n",
    "In this notebook we've introduced the concepts of joint space and task space. We derived and implemented the geometric model of the 1R and 2R robots. This description is \"static\", in a sense that it doesn't take into account velocities. The next notebook introduces the kinematic model, which relates velocities in the joint space to end-effector velocities in the task space."
   ]
  },
  {
   "cell_type": "code",
   "execution_count": null,
   "metadata": {},
   "outputs": [],
   "source": []
  }
 ],
 "metadata": {
  "kernelspec": {
   "display_name": "Python 3 (ipykernel)",
   "language": "python",
   "name": "python3"
  },
  "language_info": {
   "codemirror_mode": {
    "name": "ipython",
    "version": 3
   },
   "file_extension": ".py",
   "mimetype": "text/x-python",
   "name": "python",
   "nbconvert_exporter": "python",
   "pygments_lexer": "ipython3",
   "version": "3.8.19"
  }
 },
 "nbformat": 4,
 "nbformat_minor": 4
}
